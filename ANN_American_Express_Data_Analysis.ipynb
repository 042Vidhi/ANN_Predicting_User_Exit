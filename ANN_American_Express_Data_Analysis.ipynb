{
  "nbformat": 4,
  "nbformat_minor": 0,
  "metadata": {
    "colab": {
      "provenance": []
    },
    "kernelspec": {
      "name": "python3",
      "display_name": "Python 3"
    },
    "language_info": {
      "name": "python"
    }
  },
  "cells": [
    {
      "cell_type": "markdown",
      "source": [
        "Deeplearning via ANN"
      ],
      "metadata": {
        "id": "jkofl9aXrthf"
      }
    },
    {
      "cell_type": "code",
      "execution_count": 1,
      "metadata": {
        "id": "8U1ANtrxlpPA"
      },
      "outputs": [],
      "source": [
        "import numpy as np\n",
        "import pandas as pd\n",
        "import tensorflow as tf"
      ]
    },
    {
      "cell_type": "code",
      "source": [
        "tf.__version__"
      ],
      "metadata": {
        "colab": {
          "base_uri": "https://localhost:8080/",
          "height": 35
        },
        "id": "omOnVwXftZcX",
        "outputId": "c678724e-8535-491a-fade-465ff4d082a4"
      },
      "execution_count": 5,
      "outputs": [
        {
          "output_type": "execute_result",
          "data": {
            "text/plain": [
              "'2.15.0'"
            ],
            "application/vnd.google.colaboratory.intrinsic+json": {
              "type": "string"
            }
          },
          "metadata": {},
          "execution_count": 5
        }
      ]
    },
    {
      "cell_type": "code",
      "source": [
        " dataset = pd.read_excel('/content/Dataset_master.xlsx', sheet_name = 'American Express User Exit Pred')\n",
        " x = dataset.iloc[:, 0:-1].values\n",
        " y = dataset.iloc[:, -1].values"
      ],
      "metadata": {
        "id": "1OkKf8cTtghz"
      },
      "execution_count": 6,
      "outputs": []
    },
    {
      "cell_type": "code",
      "source": [
        "print(x)\n"
      ],
      "metadata": {
        "colab": {
          "base_uri": "https://localhost:8080/"
        },
        "id": "Wi-Iub0WuyA7",
        "outputId": "4b0305c7-0a2a-4bc0-e3ca-f799dd3d23fc"
      },
      "execution_count": 7,
      "outputs": [
        {
          "output_type": "stream",
          "name": "stdout",
          "text": [
            "[[553 'Delhi' 'Female' ... 4 1 274150]\n",
            " [447 'Bengaluru' 'Male' ... 4 1 519360]\n",
            " [501 'Delhi' 'Female' ... 4 1 545501]\n",
            " ...\n",
            " [627 'Mumbai' 'Female' ... 4 0 494067]\n",
            " [600 'Bengaluru' 'Female' ... 2 1 109375]\n",
            " [553 'Delhi' 'Male' ... 4 1 180031]]\n"
          ]
        }
      ]
    },
    {
      "cell_type": "markdown",
      "source": [
        "## Encoding categorical data"
      ],
      "metadata": {
        "id": "F3vwKZT8MGYo"
      }
    },
    {
      "cell_type": "code",
      "source": [
        "#Gender Column : Label Encoding\n",
        "from sklearn.preprocessing import LabelEncoder\n",
        "le = LabelEncoder()\n",
        "x[:, 2] = le.fit_transform(x[:, 2])"
      ],
      "metadata": {
        "id": "X6utPjcbMD7c"
      },
      "execution_count": 8,
      "outputs": []
    },
    {
      "cell_type": "code",
      "source": [
        "print(x)"
      ],
      "metadata": {
        "colab": {
          "base_uri": "https://localhost:8080/"
        },
        "id": "PHrGrzBmNKXR",
        "outputId": "2bb6cb11-b1df-49eb-dffa-14752fefdb36"
      },
      "execution_count": 9,
      "outputs": [
        {
          "output_type": "stream",
          "name": "stdout",
          "text": [
            "[[553 'Delhi' 0 ... 4 1 274150]\n",
            " [447 'Bengaluru' 1 ... 4 1 519360]\n",
            " [501 'Delhi' 0 ... 4 1 545501]\n",
            " ...\n",
            " [627 'Mumbai' 0 ... 4 0 494067]\n",
            " [600 'Bengaluru' 0 ... 2 1 109375]\n",
            " [553 'Delhi' 1 ... 4 1 180031]]\n"
          ]
        }
      ]
    },
    {
      "cell_type": "code",
      "source": [
        "#onehotencoding for location column\n",
        "from sklearn.compose import ColumnTransformer\n",
        "from sklearn.preprocessing import OneHotEncoder\n",
        "ct = ColumnTransformer(transformers=[('encoder', OneHotEncoder(), [1])], remainder='passthrough')\n",
        "x = np.array(ct.fit_transform(x))"
      ],
      "metadata": {
        "id": "EHeNoVmHNWld"
      },
      "execution_count": 10,
      "outputs": []
    },
    {
      "cell_type": "code",
      "source": [
        "print(x)"
      ],
      "metadata": {
        "colab": {
          "base_uri": "https://localhost:8080/"
        },
        "id": "d_mweuWcPraZ",
        "outputId": "e20a9325-38c0-49a9-f709-b23093d5b582"
      },
      "execution_count": 11,
      "outputs": [
        {
          "output_type": "stream",
          "name": "stdout",
          "text": [
            "[[0.0 1.0 0.0 ... 4 1 274150]\n",
            " [1.0 0.0 0.0 ... 4 1 519360]\n",
            " [0.0 1.0 0.0 ... 4 1 545501]\n",
            " ...\n",
            " [0.0 0.0 1.0 ... 4 0 494067]\n",
            " [1.0 0.0 0.0 ... 2 1 109375]\n",
            " [0.0 1.0 0.0 ... 4 1 180031]]\n"
          ]
        }
      ]
    },
    {
      "cell_type": "markdown",
      "source": [
        "## Splitting dataset into training and testing"
      ],
      "metadata": {
        "id": "dPrJ3AzkNSXM"
      }
    },
    {
      "cell_type": "code",
      "source": [
        "from sklearn.model_selection import train_test_split\n",
        "x_train, x_test, y_train, y_test = train_test_split(x, y, test_size = 0.2, random_state = 0)"
      ],
      "metadata": {
        "id": "sd_0pU-nNONR"
      },
      "execution_count": 12,
      "outputs": []
    },
    {
      "cell_type": "markdown",
      "source": [
        "## Feature Scaling"
      ],
      "metadata": {
        "id": "AJm_JQR-QO9N"
      }
    },
    {
      "cell_type": "code",
      "source": [
        "from sklearn.preprocessing import StandardScaler\n",
        "sc = StandardScaler()\n",
        "x_train = sc.fit_transform(x_train)\n",
        "x_test = sc.transform(x_test)"
      ],
      "metadata": {
        "id": "AMCGPa8SQN49"
      },
      "execution_count": 13,
      "outputs": []
    },
    {
      "cell_type": "markdown",
      "source": [
        "# ANN"
      ],
      "metadata": {
        "id": "bsiLu1KlQhsC"
      }
    },
    {
      "cell_type": "code",
      "source": [
        "ann = tf.keras.models.Sequential()"
      ],
      "metadata": {
        "id": "5aRei3LpQkjN"
      },
      "execution_count": 14,
      "outputs": []
    },
    {
      "cell_type": "markdown",
      "source": [
        "### Adding input layer and first hidden layer"
      ],
      "metadata": {
        "id": "uCHNCKcsQ2Yy"
      }
    },
    {
      "cell_type": "code",
      "source": [
        "ann.add(tf.keras.layers.Dense(units = 5, activation = 'relu'))"
      ],
      "metadata": {
        "id": "blppn-p2Q9gl"
      },
      "execution_count": 15,
      "outputs": []
    },
    {
      "cell_type": "markdown",
      "source": [
        "### Adding Secong Layer"
      ],
      "metadata": {
        "id": "_uLHXkVKwPhA"
      }
    },
    {
      "cell_type": "code",
      "source": [
        "ann.add(tf.keras.layers.Dense(units = 5, activation = 'relu'))"
      ],
      "metadata": {
        "id": "bff1tAZlwayQ"
      },
      "execution_count": 16,
      "outputs": []
    },
    {
      "cell_type": "markdown",
      "source": [
        "### Output layer"
      ],
      "metadata": {
        "id": "RR1zRm0Jwnrb"
      }
    },
    {
      "cell_type": "code",
      "source": [
        "ann.add(tf.keras.layers.Dense(units = 1, activation = 'sigmoid'))"
      ],
      "metadata": {
        "id": "MbQpcyARwq8Q"
      },
      "execution_count": 18,
      "outputs": []
    },
    {
      "cell_type": "markdown",
      "source": [
        "## ANN Training"
      ],
      "metadata": {
        "id": "Qprt2O1xwwpf"
      }
    },
    {
      "cell_type": "markdown",
      "source": [
        "### Compiling ANN"
      ],
      "metadata": {
        "id": "JX7LbfNJw1eO"
      }
    },
    {
      "cell_type": "code",
      "source": [
        "ann.compile(optimizer = 'adam',loss = 'binary_crossentropy', metrics = ['accuracy'])"
      ],
      "metadata": {
        "id": "dUKbM8Dcw0Mk"
      },
      "execution_count": 24,
      "outputs": []
    },
    {
      "cell_type": "markdown",
      "source": [
        "### Training on Training Dataset"
      ],
      "metadata": {
        "id": "pTdv_L7NyKq7"
      }
    },
    {
      "cell_type": "code",
      "source": [
        "ann.fit(x_train, y_train, batch_size = 32, epochs = 100)"
      ],
      "metadata": {
        "colab": {
          "base_uri": "https://localhost:8080/"
        },
        "id": "Zd7xj88cyWyc",
        "outputId": "f280449e-a531-46f4-f130-85d77937af23"
      },
      "execution_count": 25,
      "outputs": [
        {
          "output_type": "stream",
          "name": "stdout",
          "text": [
            "Epoch 1/100\n",
            "249/249 [==============================] - 3s 3ms/step - loss: 0.6207 - accuracy: 0.7010\n",
            "Epoch 2/100\n",
            "249/249 [==============================] - 1s 2ms/step - loss: 0.4764 - accuracy: 0.7864\n",
            "Epoch 3/100\n",
            "249/249 [==============================] - 1s 2ms/step - loss: 0.4524 - accuracy: 0.7955\n",
            "Epoch 4/100\n",
            "249/249 [==============================] - 1s 2ms/step - loss: 0.4433 - accuracy: 0.7989\n",
            "Epoch 5/100\n",
            "249/249 [==============================] - 1s 2ms/step - loss: 0.4392 - accuracy: 0.8010\n",
            "Epoch 6/100\n",
            "249/249 [==============================] - 1s 2ms/step - loss: 0.4367 - accuracy: 0.8030\n",
            "Epoch 7/100\n",
            "249/249 [==============================] - 1s 2ms/step - loss: 0.4348 - accuracy: 0.8014\n",
            "Epoch 8/100\n",
            "249/249 [==============================] - 1s 2ms/step - loss: 0.4327 - accuracy: 0.8025\n",
            "Epoch 9/100\n",
            "249/249 [==============================] - 1s 2ms/step - loss: 0.4308 - accuracy: 0.8041\n",
            "Epoch 10/100\n",
            "249/249 [==============================] - 1s 2ms/step - loss: 0.4281 - accuracy: 0.8053\n",
            "Epoch 11/100\n",
            "249/249 [==============================] - 1s 2ms/step - loss: 0.4243 - accuracy: 0.8076\n",
            "Epoch 12/100\n",
            "249/249 [==============================] - 1s 2ms/step - loss: 0.4193 - accuracy: 0.8106\n",
            "Epoch 13/100\n",
            "249/249 [==============================] - 1s 2ms/step - loss: 0.4124 - accuracy: 0.8163\n",
            "Epoch 14/100\n",
            "249/249 [==============================] - 1s 2ms/step - loss: 0.4042 - accuracy: 0.8193\n",
            "Epoch 15/100\n",
            "249/249 [==============================] - 1s 2ms/step - loss: 0.3961 - accuracy: 0.8265\n",
            "Epoch 16/100\n",
            "249/249 [==============================] - 1s 2ms/step - loss: 0.3888 - accuracy: 0.8328\n",
            "Epoch 17/100\n",
            "249/249 [==============================] - 1s 2ms/step - loss: 0.3830 - accuracy: 0.8349\n",
            "Epoch 18/100\n",
            "249/249 [==============================] - 1s 2ms/step - loss: 0.3789 - accuracy: 0.8370\n",
            "Epoch 19/100\n",
            "249/249 [==============================] - 1s 3ms/step - loss: 0.3756 - accuracy: 0.8404\n",
            "Epoch 20/100\n",
            "249/249 [==============================] - 1s 4ms/step - loss: 0.3727 - accuracy: 0.8404\n",
            "Epoch 21/100\n",
            "249/249 [==============================] - 1s 4ms/step - loss: 0.3708 - accuracy: 0.8432\n",
            "Epoch 22/100\n",
            "249/249 [==============================] - 1s 4ms/step - loss: 0.3698 - accuracy: 0.8438\n",
            "Epoch 23/100\n",
            "249/249 [==============================] - 1s 4ms/step - loss: 0.3685 - accuracy: 0.8438\n",
            "Epoch 24/100\n",
            "249/249 [==============================] - 1s 4ms/step - loss: 0.3673 - accuracy: 0.8444\n",
            "Epoch 25/100\n",
            "249/249 [==============================] - 1s 3ms/step - loss: 0.3663 - accuracy: 0.8441\n",
            "Epoch 26/100\n",
            "249/249 [==============================] - 1s 2ms/step - loss: 0.3660 - accuracy: 0.8449\n",
            "Epoch 27/100\n",
            "249/249 [==============================] - 1s 2ms/step - loss: 0.3654 - accuracy: 0.8460\n",
            "Epoch 28/100\n",
            "249/249 [==============================] - 1s 3ms/step - loss: 0.3650 - accuracy: 0.8436\n",
            "Epoch 29/100\n",
            "249/249 [==============================] - 1s 2ms/step - loss: 0.3646 - accuracy: 0.8454\n",
            "Epoch 30/100\n",
            "249/249 [==============================] - 1s 2ms/step - loss: 0.3642 - accuracy: 0.8457\n",
            "Epoch 31/100\n",
            "249/249 [==============================] - 1s 2ms/step - loss: 0.3638 - accuracy: 0.8435\n",
            "Epoch 32/100\n",
            "249/249 [==============================] - 1s 2ms/step - loss: 0.3637 - accuracy: 0.8454\n",
            "Epoch 33/100\n",
            "249/249 [==============================] - 1s 2ms/step - loss: 0.3638 - accuracy: 0.8459\n",
            "Epoch 34/100\n",
            "249/249 [==============================] - 1s 2ms/step - loss: 0.3630 - accuracy: 0.8465\n",
            "Epoch 35/100\n",
            "249/249 [==============================] - 1s 2ms/step - loss: 0.3630 - accuracy: 0.8450\n",
            "Epoch 36/100\n",
            "249/249 [==============================] - 1s 2ms/step - loss: 0.3629 - accuracy: 0.8440\n",
            "Epoch 37/100\n",
            "249/249 [==============================] - 1s 2ms/step - loss: 0.3628 - accuracy: 0.8451\n",
            "Epoch 38/100\n",
            "249/249 [==============================] - 0s 2ms/step - loss: 0.3623 - accuracy: 0.8459\n",
            "Epoch 39/100\n",
            "249/249 [==============================] - 1s 2ms/step - loss: 0.3621 - accuracy: 0.8452\n",
            "Epoch 40/100\n",
            "249/249 [==============================] - 1s 2ms/step - loss: 0.3619 - accuracy: 0.8469\n",
            "Epoch 41/100\n",
            "249/249 [==============================] - 1s 2ms/step - loss: 0.3618 - accuracy: 0.8464\n",
            "Epoch 42/100\n",
            "249/249 [==============================] - 1s 2ms/step - loss: 0.3619 - accuracy: 0.8444\n",
            "Epoch 43/100\n",
            "249/249 [==============================] - 1s 3ms/step - loss: 0.3617 - accuracy: 0.8452\n",
            "Epoch 44/100\n",
            "249/249 [==============================] - 1s 3ms/step - loss: 0.3616 - accuracy: 0.8457\n",
            "Epoch 45/100\n",
            "249/249 [==============================] - 1s 4ms/step - loss: 0.3613 - accuracy: 0.8449\n",
            "Epoch 46/100\n",
            "249/249 [==============================] - 1s 4ms/step - loss: 0.3612 - accuracy: 0.8465\n",
            "Epoch 47/100\n",
            "249/249 [==============================] - 1s 4ms/step - loss: 0.3608 - accuracy: 0.8455\n",
            "Epoch 48/100\n",
            "249/249 [==============================] - 1s 4ms/step - loss: 0.3609 - accuracy: 0.8461\n",
            "Epoch 49/100\n",
            "249/249 [==============================] - 1s 3ms/step - loss: 0.3607 - accuracy: 0.8461\n",
            "Epoch 50/100\n",
            "249/249 [==============================] - 1s 2ms/step - loss: 0.3605 - accuracy: 0.8462\n",
            "Epoch 51/100\n",
            "249/249 [==============================] - 1s 2ms/step - loss: 0.3604 - accuracy: 0.8464\n",
            "Epoch 52/100\n",
            "249/249 [==============================] - 1s 2ms/step - loss: 0.3604 - accuracy: 0.8461\n",
            "Epoch 53/100\n",
            "249/249 [==============================] - 1s 2ms/step - loss: 0.3606 - accuracy: 0.8489\n",
            "Epoch 54/100\n",
            "249/249 [==============================] - 1s 2ms/step - loss: 0.3602 - accuracy: 0.8459\n",
            "Epoch 55/100\n",
            "249/249 [==============================] - 1s 2ms/step - loss: 0.3600 - accuracy: 0.8479\n",
            "Epoch 56/100\n",
            "249/249 [==============================] - 0s 2ms/step - loss: 0.3603 - accuracy: 0.8464\n",
            "Epoch 57/100\n",
            "249/249 [==============================] - 1s 2ms/step - loss: 0.3598 - accuracy: 0.8464\n",
            "Epoch 58/100\n",
            "249/249 [==============================] - 1s 2ms/step - loss: 0.3599 - accuracy: 0.8480\n",
            "Epoch 59/100\n",
            "249/249 [==============================] - 0s 2ms/step - loss: 0.3601 - accuracy: 0.8476\n",
            "Epoch 60/100\n",
            "249/249 [==============================] - 1s 2ms/step - loss: 0.3600 - accuracy: 0.8466\n",
            "Epoch 61/100\n",
            "249/249 [==============================] - 1s 2ms/step - loss: 0.3596 - accuracy: 0.8470\n",
            "Epoch 62/100\n",
            "249/249 [==============================] - 1s 2ms/step - loss: 0.3598 - accuracy: 0.8467\n",
            "Epoch 63/100\n",
            "249/249 [==============================] - 1s 2ms/step - loss: 0.3598 - accuracy: 0.8467\n",
            "Epoch 64/100\n",
            "249/249 [==============================] - 1s 2ms/step - loss: 0.3599 - accuracy: 0.8457\n",
            "Epoch 65/100\n",
            "249/249 [==============================] - 1s 2ms/step - loss: 0.3593 - accuracy: 0.8489\n",
            "Epoch 66/100\n",
            "249/249 [==============================] - 1s 2ms/step - loss: 0.3595 - accuracy: 0.8460\n",
            "Epoch 67/100\n",
            "249/249 [==============================] - 1s 3ms/step - loss: 0.3592 - accuracy: 0.8471\n",
            "Epoch 68/100\n",
            "249/249 [==============================] - 1s 4ms/step - loss: 0.3591 - accuracy: 0.8481\n",
            "Epoch 69/100\n",
            "249/249 [==============================] - 1s 3ms/step - loss: 0.3597 - accuracy: 0.8483\n",
            "Epoch 70/100\n",
            "249/249 [==============================] - 1s 3ms/step - loss: 0.3589 - accuracy: 0.8469\n",
            "Epoch 71/100\n",
            "249/249 [==============================] - 1s 3ms/step - loss: 0.3589 - accuracy: 0.8470\n",
            "Epoch 72/100\n",
            "249/249 [==============================] - 1s 4ms/step - loss: 0.3589 - accuracy: 0.8478\n",
            "Epoch 73/100\n",
            "249/249 [==============================] - 1s 3ms/step - loss: 0.3588 - accuracy: 0.8467\n",
            "Epoch 74/100\n",
            "249/249 [==============================] - 1s 3ms/step - loss: 0.3590 - accuracy: 0.8481\n",
            "Epoch 75/100\n",
            "249/249 [==============================] - 1s 2ms/step - loss: 0.3586 - accuracy: 0.8462\n",
            "Epoch 76/100\n",
            "249/249 [==============================] - 1s 2ms/step - loss: 0.3585 - accuracy: 0.8471\n",
            "Epoch 77/100\n",
            "249/249 [==============================] - 1s 3ms/step - loss: 0.3581 - accuracy: 0.8474\n",
            "Epoch 78/100\n",
            "249/249 [==============================] - 1s 2ms/step - loss: 0.3582 - accuracy: 0.8472\n",
            "Epoch 79/100\n",
            "249/249 [==============================] - 1s 2ms/step - loss: 0.3583 - accuracy: 0.8470\n",
            "Epoch 80/100\n",
            "249/249 [==============================] - 1s 2ms/step - loss: 0.3583 - accuracy: 0.8472\n",
            "Epoch 81/100\n",
            "249/249 [==============================] - 1s 2ms/step - loss: 0.3578 - accuracy: 0.8478\n",
            "Epoch 82/100\n",
            "249/249 [==============================] - 1s 2ms/step - loss: 0.3580 - accuracy: 0.8479\n",
            "Epoch 83/100\n",
            "249/249 [==============================] - 1s 2ms/step - loss: 0.3580 - accuracy: 0.8475\n",
            "Epoch 84/100\n",
            "249/249 [==============================] - 1s 2ms/step - loss: 0.3579 - accuracy: 0.8469\n",
            "Epoch 85/100\n",
            "249/249 [==============================] - 1s 2ms/step - loss: 0.3576 - accuracy: 0.8499\n",
            "Epoch 86/100\n",
            "249/249 [==============================] - 1s 2ms/step - loss: 0.3578 - accuracy: 0.8480\n",
            "Epoch 87/100\n",
            "249/249 [==============================] - 1s 2ms/step - loss: 0.3577 - accuracy: 0.8481\n",
            "Epoch 88/100\n",
            "249/249 [==============================] - 1s 2ms/step - loss: 0.3581 - accuracy: 0.8484\n",
            "Epoch 89/100\n",
            "249/249 [==============================] - 1s 2ms/step - loss: 0.3576 - accuracy: 0.8480\n",
            "Epoch 90/100\n",
            "249/249 [==============================] - 0s 2ms/step - loss: 0.3578 - accuracy: 0.8472\n",
            "Epoch 91/100\n",
            "249/249 [==============================] - 1s 2ms/step - loss: 0.3570 - accuracy: 0.8469\n",
            "Epoch 92/100\n",
            "249/249 [==============================] - 1s 4ms/step - loss: 0.3574 - accuracy: 0.8484\n",
            "Epoch 93/100\n",
            "249/249 [==============================] - 1s 4ms/step - loss: 0.3572 - accuracy: 0.8472\n",
            "Epoch 94/100\n",
            "249/249 [==============================] - 1s 3ms/step - loss: 0.3572 - accuracy: 0.8478\n",
            "Epoch 95/100\n",
            "249/249 [==============================] - 1s 3ms/step - loss: 0.3572 - accuracy: 0.8493\n",
            "Epoch 96/100\n",
            "249/249 [==============================] - 1s 4ms/step - loss: 0.3569 - accuracy: 0.8474\n",
            "Epoch 97/100\n",
            "249/249 [==============================] - 1s 4ms/step - loss: 0.3566 - accuracy: 0.8505\n",
            "Epoch 98/100\n",
            "249/249 [==============================] - 1s 3ms/step - loss: 0.3572 - accuracy: 0.8462\n",
            "Epoch 99/100\n",
            "249/249 [==============================] - 1s 2ms/step - loss: 0.3568 - accuracy: 0.8501\n",
            "Epoch 100/100\n",
            "249/249 [==============================] - 1s 2ms/step - loss: 0.3566 - accuracy: 0.8488\n"
          ]
        },
        {
          "output_type": "execute_result",
          "data": {
            "text/plain": [
              "<keras.src.callbacks.History at 0x7f0da5a4e800>"
            ]
          },
          "metadata": {},
          "execution_count": 25
        }
      ]
    },
    {
      "cell_type": "markdown",
      "source": [
        "# Predicting"
      ],
      "metadata": {
        "id": "-rznKpn5y-q9"
      }
    },
    {
      "cell_type": "markdown",
      "source": [
        "## Single Prediction"
      ],
      "metadata": {
        "id": "D0CCFmBwzER7"
      }
    },
    {
      "cell_type": "code",
      "source": [
        "print(ann.predict(sc.transform([[0.0, 1.0, 0.0, 501, 0, 32, 2, 0.0, 4, 1, 545501]])) > 0.5)"
      ],
      "metadata": {
        "colab": {
          "base_uri": "https://localhost:8080/"
        },
        "id": "NPqXa75gysMR",
        "outputId": "24863f27-0867-47c3-bdd0-0221d6acba73"
      },
      "execution_count": 26,
      "outputs": [
        {
          "output_type": "stream",
          "name": "stdout",
          "text": [
            "1/1 [==============================] - 0s 353ms/step\n",
            "[[False]]\n"
          ]
        }
      ]
    },
    {
      "cell_type": "code",
      "source": [
        "y_pred = ann.predict(x_test)\n",
        "y_pred = (y_pred > 0.5)\n",
        "print(np.concatenate((y_pred.reshape(len(y_pred),1), y_test.reshape(len(y_test),1)),1))"
      ],
      "metadata": {
        "colab": {
          "base_uri": "https://localhost:8080/"
        },
        "id": "3c5vZUaJz0K9",
        "outputId": "5c5b1738-f76f-4450-f7b3-2c935df2d6ec"
      },
      "execution_count": 27,
      "outputs": [
        {
          "output_type": "stream",
          "name": "stdout",
          "text": [
            "63/63 [==============================] - 0s 3ms/step\n",
            "[[0 1]\n",
            " [0 0]\n",
            " [0 0]\n",
            " ...\n",
            " [0 1]\n",
            " [0 0]\n",
            " [0 1]]\n"
          ]
        }
      ]
    },
    {
      "cell_type": "markdown",
      "source": [
        "## Confusion Matrix"
      ],
      "metadata": {
        "id": "-itsvEh6z5o3"
      }
    },
    {
      "cell_type": "code",
      "source": [
        "from sklearn.metrics import confusion_matrix, accuracy_score\n",
        "cm = confusion_matrix(y_test, y_pred)\n",
        "print(cm)\n",
        "accuracy_score(y_test, y_pred)"
      ],
      "metadata": {
        "colab": {
          "base_uri": "https://localhost:8080/"
        },
        "id": "TnZRpaJAz4mF",
        "outputId": "1da38d1b-bacf-41cf-cc44-43b1830eea55"
      },
      "execution_count": 28,
      "outputs": [
        {
          "output_type": "stream",
          "name": "stdout",
          "text": [
            "[[1513   60]\n",
            " [ 237  176]]\n"
          ]
        },
        {
          "output_type": "execute_result",
          "data": {
            "text/plain": [
              "0.850453172205438"
            ]
          },
          "metadata": {},
          "execution_count": 28
        }
      ]
    }
  ]
}